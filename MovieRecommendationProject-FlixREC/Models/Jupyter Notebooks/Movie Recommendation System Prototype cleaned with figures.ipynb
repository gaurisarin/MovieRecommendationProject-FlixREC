{
 "cells": [
  {
   "cell_type": "markdown",
   "id": "7990b4cd-04a1-4aeb-9bc8-9f6f58a6ea8d",
   "metadata": {},
   "source": [
    "## Data"
   ]
  },
  {
   "cell_type": "code",
   "execution_count": 1,
   "id": "5fdf2bde",
   "metadata": {},
   "outputs": [],
   "source": [
    "# import libraries\n",
    "import pandas as pd\n",
    "import numpy as np\n",
    "from sklearn.feature_extraction.text import TfidfVectorizer\n",
    "import nltk\n",
    "import spacy\n",
    "import matplotlib.pyplot as plt\n",
    "import seaborn as sns"
   ]
  },
  {
   "cell_type": "code",
   "execution_count": 2,
   "id": "45a54151",
   "metadata": {},
   "outputs": [],
   "source": [
    "# read data \n",
    "# since we are in \\models we have to change the working dir \n",
    "import os\n",
    "os.chdir(\"..\") # RUN THIS ONLY ONCE"
   ]
  },
  {
   "cell_type": "code",
   "execution_count": 28,
   "id": "87879973-e1cf-4a45-92e5-01e51fb9ea18",
   "metadata": {},
   "outputs": [
    {
     "data": {
      "text/html": [
       "<div>\n",
       "<style scoped>\n",
       "    .dataframe tbody tr th:only-of-type {\n",
       "        vertical-align: middle;\n",
       "    }\n",
       "\n",
       "    .dataframe tbody tr th {\n",
       "        vertical-align: top;\n",
       "    }\n",
       "\n",
       "    .dataframe thead th {\n",
       "        text-align: right;\n",
       "    }\n",
       "</style>\n",
       "<table border=\"1\" class=\"dataframe\">\n",
       "  <thead>\n",
       "    <tr style=\"text-align: right;\">\n",
       "      <th></th>\n",
       "      <th>Title</th>\n",
       "      <th>Year</th>\n",
       "      <th>Summary</th>\n",
       "      <th>Short Summary</th>\n",
       "      <th>Genres</th>\n",
       "      <th>IMDB ID</th>\n",
       "      <th>Runtime</th>\n",
       "      <th>YouTube Trailer</th>\n",
       "      <th>Rating</th>\n",
       "      <th>Movie Poster</th>\n",
       "      <th>Director</th>\n",
       "      <th>Writers</th>\n",
       "      <th>Cast</th>\n",
       "    </tr>\n",
       "  </thead>\n",
       "  <tbody>\n",
       "    <tr>\n",
       "      <th>0</th>\n",
       "      <td>Patton Oswalt: Annihilation</td>\n",
       "      <td>2017</td>\n",
       "      <td>Patton Oswald, despite a personal tragedy, pro...</td>\n",
       "      <td>Patton Oswalt, despite a personal tragedy, pro...</td>\n",
       "      <td>Uncategorized</td>\n",
       "      <td>tt7026230</td>\n",
       "      <td>66</td>\n",
       "      <td>4hZi5QaMBFc</td>\n",
       "      <td>7.4</td>\n",
       "      <td>https://hydramovies.com/wp-content/uploads/201...</td>\n",
       "      <td>Bobcat Goldthwait</td>\n",
       "      <td>Patton Oswalt</td>\n",
       "      <td>Patton Oswalt</td>\n",
       "    </tr>\n",
       "  </tbody>\n",
       "</table>\n",
       "</div>"
      ],
      "text/plain": [
       "                         Title  Year  \\\n",
       "0  Patton Oswalt: Annihilation  2017   \n",
       "\n",
       "                                             Summary  \\\n",
       "0  Patton Oswald, despite a personal tragedy, pro...   \n",
       "\n",
       "                                       Short Summary         Genres  \\\n",
       "0  Patton Oswalt, despite a personal tragedy, pro...  Uncategorized   \n",
       "\n",
       "     IMDB ID  Runtime YouTube Trailer  Rating  \\\n",
       "0  tt7026230       66     4hZi5QaMBFc     7.4   \n",
       "\n",
       "                                        Movie Poster           Director  \\\n",
       "0  https://hydramovies.com/wp-content/uploads/201...  Bobcat Goldthwait   \n",
       "\n",
       "         Writers           Cast  \n",
       "0  Patton Oswalt  Patton Oswalt  "
      ]
     },
     "execution_count": 28,
     "metadata": {},
     "output_type": "execute_result"
    }
   ],
   "source": [
    "file_path = 'Datasets\\\\Hydra-Movie-Scrape.csv'\n",
    "movies_data = pd.read_csv(file_path)\n",
    "movies_data.head(1)"
   ]
  },
  {
   "cell_type": "markdown",
   "id": "fff24dce-f251-400b-a733-cd3c51e661b1",
   "metadata": {},
   "source": [
    "## Data Preprocessing"
   ]
  },
  {
   "cell_type": "code",
   "execution_count": 29,
   "id": "ea9f8b69",
   "metadata": {},
   "outputs": [],
   "source": [
    "# preprocessing data / removing nulls\n",
    "missing_values = movies_data.isnull().sum()\n",
    "# print(missing_values)\n",
    "movies_data_cleaned = movies_data.dropna(subset=['Summary']).copy()\n",
    "movies_data_cleaned.drop(columns=['Movie Poster', 'IMDB ID', 'Short Summary'], inplace=True)"
   ]
  },
  {
   "cell_type": "code",
   "execution_count": 30,
   "id": "43f7e683",
   "metadata": {},
   "outputs": [],
   "source": [
    "import nltk\n",
    "from nltk.corpus import stopwords\n",
    "from nltk.stem import WordNetLemmatizer\n",
    "from nltk.tokenize import word_tokenize\n",
    "# nltk.download('punkt')\n",
    "# nltk.download('stopwords')\n",
    "# nltk.download('wordnet')\n",
    "\n",
    "def lemmatize_(text):\n",
    "    lemmatizer = WordNetLemmatizer()\n",
    "    # return ' '.join([word for word in text.split() if len(word) >= 3])\n",
    "    stop_words = set(stopwords.words(\"english\"))\n",
    "    return ' '.join([lemmatizer.lemmatize(word) for word in text.split() if word not in stop_words])"
   ]
  },
  {
   "cell_type": "code",
   "execution_count": 31,
   "id": "f717c9aa",
   "metadata": {},
   "outputs": [
    {
     "name": "stderr",
     "output_type": "stream",
     "text": [
      "<>:1: SyntaxWarning: invalid escape sequence '\\w'\n",
      "<>:1: SyntaxWarning: invalid escape sequence '\\w'\n",
      "C:\\Users\\mumle\\AppData\\Local\\Temp\\ipykernel_22488\\179091786.py:1: SyntaxWarning: invalid escape sequence '\\w'\n",
      "  movies_data_cleaned['Summary'] = movies_data_cleaned['Summary'].str.replace('[^\\w\\s]', '', regex=True)\n"
     ]
    }
   ],
   "source": [
    "movies_data_cleaned['Summary'] = movies_data_cleaned['Summary'].str.replace('[^\\w\\s]', '', regex=True)\n",
    "movies_data_cleaned['Summary'] = movies_data_cleaned['Summary'].str.lower()\n",
    "movies_data_cleaned['Summary'] = movies_data_cleaned['Summary'].apply(lemmatize_)"
   ]
  },
  {
   "cell_type": "markdown",
   "id": "e45053e7-55e4-432e-9ba6-d8fd289d49ef",
   "metadata": {},
   "source": [
    "Padding sequences so that they are all the same length"
   ]
  },
  {
   "cell_type": "code",
   "execution_count": 32,
   "id": "706b7ada-b125-4e95-9dbc-376950e817cb",
   "metadata": {},
   "outputs": [],
   "source": [
    "pad_chars = lambda s: s[:400] if len(s) > 400 else s + (' ' * (400 - len(s)))\n",
    "movies_data_cleaned['Summary'] = movies_data_cleaned['Summary'].apply(pad_chars) "
   ]
  },
  {
   "cell_type": "code",
   "execution_count": 33,
   "id": "dc1cbab3-9773-4025-bf34-5f511ccbef59",
   "metadata": {},
   "outputs": [
    {
     "data": {
      "text/plain": [
       "0       400\n",
       "1       400\n",
       "2       400\n",
       "3       400\n",
       "4       400\n",
       "       ... \n",
       "3935    400\n",
       "3936    400\n",
       "3937    400\n",
       "3938    400\n",
       "3939    400\n",
       "Name: Summary, Length: 3935, dtype: int64"
      ]
     },
     "execution_count": 33,
     "metadata": {},
     "output_type": "execute_result"
    }
   ],
   "source": [
    "movies_data_cleaned['Summary'].apply(len)"
   ]
  },
  {
   "cell_type": "code",
   "execution_count": 34,
   "id": "6e9f2eb5",
   "metadata": {},
   "outputs": [
    {
     "data": {
      "text/html": [
       "<div>\n",
       "<style scoped>\n",
       "    .dataframe tbody tr th:only-of-type {\n",
       "        vertical-align: middle;\n",
       "    }\n",
       "\n",
       "    .dataframe tbody tr th {\n",
       "        vertical-align: top;\n",
       "    }\n",
       "\n",
       "    .dataframe thead th {\n",
       "        text-align: right;\n",
       "    }\n",
       "</style>\n",
       "<table border=\"1\" class=\"dataframe\">\n",
       "  <thead>\n",
       "    <tr style=\"text-align: right;\">\n",
       "      <th></th>\n",
       "      <th>Title</th>\n",
       "      <th>Year</th>\n",
       "      <th>Summary</th>\n",
       "      <th>Runtime</th>\n",
       "      <th>YouTube Trailer</th>\n",
       "      <th>Rating</th>\n",
       "      <th>Director</th>\n",
       "      <th>Writers</th>\n",
       "      <th>Cast</th>\n",
       "      <th>Genre_1</th>\n",
       "      <th>Genre_2</th>\n",
       "      <th>Genre_3</th>\n",
       "      <th>Genre_4</th>\n",
       "      <th>Genre_5</th>\n",
       "    </tr>\n",
       "  </thead>\n",
       "  <tbody>\n",
       "    <tr>\n",
       "      <th>0</th>\n",
       "      <td>Patton Oswalt: Annihilation</td>\n",
       "      <td>2017</td>\n",
       "      <td>patton oswald despite personal tragedy produce...</td>\n",
       "      <td>66</td>\n",
       "      <td>4hZi5QaMBFc</td>\n",
       "      <td>7.4</td>\n",
       "      <td>Bobcat Goldthwait</td>\n",
       "      <td>Patton Oswalt</td>\n",
       "      <td>Patton Oswalt</td>\n",
       "      <td>uncategorized</td>\n",
       "      <td>None</td>\n",
       "      <td>None</td>\n",
       "      <td>None</td>\n",
       "      <td>None</td>\n",
       "    </tr>\n",
       "  </tbody>\n",
       "</table>\n",
       "</div>"
      ],
      "text/plain": [
       "                         Title  Year  \\\n",
       "0  Patton Oswalt: Annihilation  2017   \n",
       "\n",
       "                                             Summary  Runtime YouTube Trailer  \\\n",
       "0  patton oswald despite personal tragedy produce...       66     4hZi5QaMBFc   \n",
       "\n",
       "   Rating           Director        Writers           Cast        Genre_1  \\\n",
       "0     7.4  Bobcat Goldthwait  Patton Oswalt  Patton Oswalt  uncategorized   \n",
       "\n",
       "  Genre_2 Genre_3 Genre_4 Genre_5  \n",
       "0    None    None    None    None  "
      ]
     },
     "execution_count": 34,
     "metadata": {},
     "output_type": "execute_result"
    }
   ],
   "source": [
    "# if there are multiple genres then seperating the next genres into a different column \n",
    "genres_split = movies_data_cleaned['Genres'].str.split('|', expand=True)\n",
    "for i in range(genres_split.shape[1]):\n",
    "    movies_data_cleaned[f'Genre_{i+1}'] = genres_split[i]\n",
    "for col in movies_data_cleaned.columns:\n",
    "    if 'Genre_' in col:\n",
    "        movies_data_cleaned[col] = movies_data_cleaned[col].str.lower().str.strip()\n",
    "\n",
    "movies_data_cleaned.drop(columns=['Genres'], inplace=True)\n",
    "movies_data_cleaned.head(1)"
   ]
  },
  {
   "cell_type": "code",
   "execution_count": 35,
   "id": "f5bf4f8d",
   "metadata": {},
   "outputs": [
    {
     "data": {
      "text/html": [
       "<div>\n",
       "<style scoped>\n",
       "    .dataframe tbody tr th:only-of-type {\n",
       "        vertical-align: middle;\n",
       "    }\n",
       "\n",
       "    .dataframe tbody tr th {\n",
       "        vertical-align: top;\n",
       "    }\n",
       "\n",
       "    .dataframe thead th {\n",
       "        text-align: right;\n",
       "    }\n",
       "</style>\n",
       "<table border=\"1\" class=\"dataframe\">\n",
       "  <thead>\n",
       "    <tr style=\"text-align: right;\">\n",
       "      <th></th>\n",
       "      <th>Title</th>\n",
       "      <th>Year</th>\n",
       "      <th>Summary</th>\n",
       "      <th>Runtime</th>\n",
       "      <th>YouTube Trailer</th>\n",
       "      <th>Rating</th>\n",
       "      <th>Director</th>\n",
       "      <th>Writers</th>\n",
       "      <th>Genre_1</th>\n",
       "      <th>Genre_2</th>\n",
       "      <th>Genre_3</th>\n",
       "      <th>Genre_4</th>\n",
       "      <th>Genre_5</th>\n",
       "      <th>Cast_1</th>\n",
       "      <th>Cast_2</th>\n",
       "      <th>Cast_3</th>\n",
       "    </tr>\n",
       "  </thead>\n",
       "  <tbody>\n",
       "    <tr>\n",
       "      <th>0</th>\n",
       "      <td>Patton Oswalt: Annihilation</td>\n",
       "      <td>2017</td>\n",
       "      <td>patton oswald despite personal tragedy produce...</td>\n",
       "      <td>66</td>\n",
       "      <td>4hZi5QaMBFc</td>\n",
       "      <td>7.4</td>\n",
       "      <td>Bobcat Goldthwait</td>\n",
       "      <td>Patton Oswalt</td>\n",
       "      <td>uncategorized</td>\n",
       "      <td>None</td>\n",
       "      <td>None</td>\n",
       "      <td>None</td>\n",
       "      <td>None</td>\n",
       "      <td>patton oswalt</td>\n",
       "      <td>None</td>\n",
       "      <td>None</td>\n",
       "    </tr>\n",
       "  </tbody>\n",
       "</table>\n",
       "</div>"
      ],
      "text/plain": [
       "                         Title  Year  \\\n",
       "0  Patton Oswalt: Annihilation  2017   \n",
       "\n",
       "                                             Summary  Runtime YouTube Trailer  \\\n",
       "0  patton oswald despite personal tragedy produce...       66     4hZi5QaMBFc   \n",
       "\n",
       "   Rating           Director        Writers        Genre_1 Genre_2 Genre_3  \\\n",
       "0     7.4  Bobcat Goldthwait  Patton Oswalt  uncategorized    None    None   \n",
       "\n",
       "  Genre_4 Genre_5         Cast_1 Cast_2 Cast_3  \n",
       "0    None    None  patton oswalt   None   None  "
      ]
     },
     "execution_count": 35,
     "metadata": {},
     "output_type": "execute_result"
    }
   ],
   "source": [
    "# split cast into different \n",
    "cast_split = movies_data_cleaned['Cast'].str.split('|', expand=True)\n",
    "for i in range(cast_split.shape[1]):\n",
    "    movies_data_cleaned[f'Cast_{i+1}'] = cast_split[i]\n",
    "for col in movies_data_cleaned.columns:\n",
    "    if 'Cast_' in col:\n",
    "        movies_data_cleaned[col] = movies_data_cleaned[col].str.lower().str.strip()\n",
    "\n",
    "movies_data_cleaned.drop(columns=['Cast'], inplace=True)\n",
    "movies_data_cleaned.head(1)"
   ]
  },
  {
   "cell_type": "code",
   "execution_count": 36,
   "id": "94d4956e-46ab-4601-8125-24d852c95c05",
   "metadata": {},
   "outputs": [
    {
     "data": {
      "text/plain": [
       "'dory wideeyed blue tang fish suffers memory loss every 10 second one thing remember somehow became separated parent child help friend nemo marlin dory embarks epic adventure find journey brings marine life institute conservatory house diverse ocean specie                                                                                                                                                 '"
      ]
     },
     "execution_count": 36,
     "metadata": {},
     "output_type": "execute_result"
    }
   ],
   "source": [
    "bool_title = movies_data_cleaned['Title'] == \"Finding Dory\"\n",
    "movies_data_cleaned[bool_title]['Summary'].item()"
   ]
  },
  {
   "cell_type": "code",
   "execution_count": 37,
   "id": "92906166-0433-49e7-839c-b0e5b6b0ecd9",
   "metadata": {},
   "outputs": [
    {
     "data": {
      "text/plain": [
       "'clown fish named marlin life great barrier reef loses son nemo venture open sea despite father constant warning many ocean danger nemo abducted boat netted sent dentist office sydney marlin venture try retrieve nemo marlin meet fish named dory blue tang suffering shortterm memory loss companion travel great distance encountering various dangerous sea creature shark anglerfish jellyfish order rescu'"
      ]
     },
     "execution_count": 37,
     "metadata": {},
     "output_type": "execute_result"
    }
   ],
   "source": [
    "bool_title = movies_data_cleaned['Title'] == \"Finding Nemo\"\n",
    "movies_data_cleaned[bool_title]['Summary'].item()"
   ]
  },
  {
   "cell_type": "markdown",
   "id": "bbd13cdf-a343-4ddb-8532-16e43633ff06",
   "metadata": {},
   "source": [
    "## TF-IDF Embedding\n",
    "tf-idf allows us to convert the word input to a numerical input. The embedding records the relative importance/frequency of each word to the corpus; "
   ]
  },
  {
   "cell_type": "code",
   "execution_count": 38,
   "id": "72c12a7a",
   "metadata": {},
   "outputs": [],
   "source": [
    "from sklearn.feature_extraction.text import TfidfVectorizer\n",
    "tfidf_vectorizer = TfidfVectorizer(min_df=3, max_features=None, \n",
    "                                   strip_accents='unicode', analyzer='word', token_pattern=r'\\w{1,}',\n",
    "                                   ngram_range=(1, 3), use_idf=True, smooth_idf=True, sublinear_tf=True,\n",
    "                                   stop_words='english')\n",
    "tfidf_matrix = tfidf_vectorizer.fit_transform(movies_data_cleaned['Summary'])"
   ]
  },
  {
   "cell_type": "markdown",
   "id": "3cfa4af2-810b-492a-a018-3178e3f7853c",
   "metadata": {},
   "source": [
    "## Pulling out important keywords for each film"
   ]
  },
  {
   "cell_type": "code",
   "execution_count": 39,
   "id": "dbcbeb68",
   "metadata": {},
   "outputs": [
    {
     "data": {
      "text/html": [
       "<div>\n",
       "<style scoped>\n",
       "    .dataframe tbody tr th:only-of-type {\n",
       "        vertical-align: middle;\n",
       "    }\n",
       "\n",
       "    .dataframe tbody tr th {\n",
       "        vertical-align: top;\n",
       "    }\n",
       "\n",
       "    .dataframe thead th {\n",
       "        text-align: right;\n",
       "    }\n",
       "</style>\n",
       "<table border=\"1\" class=\"dataframe\">\n",
       "  <thead>\n",
       "    <tr style=\"text-align: right;\">\n",
       "      <th></th>\n",
       "      <th>Summary</th>\n",
       "      <th>Keywords</th>\n",
       "    </tr>\n",
       "  </thead>\n",
       "  <tbody>\n",
       "    <tr>\n",
       "      <th>0</th>\n",
       "      <td>patton oswald despite personal tragedy produce...</td>\n",
       "      <td>[patton, oswald, tribulation, focusing, produce]</td>\n",
       "    </tr>\n",
       "    <tr>\n",
       "      <th>1</th>\n",
       "      <td>recovering alcoholic recently converted mormon...</td>\n",
       "      <td>[band, reuniting, mormon, converted, kane]</td>\n",
       "    </tr>\n",
       "    <tr>\n",
       "      <th>2</th>\n",
       "      <td>everyone snowed house mouse mickey suggests th...</td>\n",
       "      <td>[christmas, disney, mickey, everyone, show]</td>\n",
       "    </tr>\n",
       "    <tr>\n",
       "      <th>3</th>\n",
       "      <td>villain popular animated disney film gathered ...</td>\n",
       "      <td>[mickey, mouse, villain, house, gathered]</td>\n",
       "    </tr>\n",
       "    <tr>\n",
       "      <th>4</th>\n",
       "      <td>cruel world junior high edwin suffers state an...</td>\n",
       "      <td>[alienation, misunderstood, unflinching, anxie...</td>\n",
       "    </tr>\n",
       "  </tbody>\n",
       "</table>\n",
       "</div>"
      ],
      "text/plain": [
       "                                             Summary  \\\n",
       "0  patton oswald despite personal tragedy produce...   \n",
       "1  recovering alcoholic recently converted mormon...   \n",
       "2  everyone snowed house mouse mickey suggests th...   \n",
       "3  villain popular animated disney film gathered ...   \n",
       "4  cruel world junior high edwin suffers state an...   \n",
       "\n",
       "                                            Keywords  \n",
       "0   [patton, oswald, tribulation, focusing, produce]  \n",
       "1         [band, reuniting, mormon, converted, kane]  \n",
       "2        [christmas, disney, mickey, everyone, show]  \n",
       "3          [mickey, mouse, villain, house, gathered]  \n",
       "4  [alienation, misunderstood, unflinching, anxie...  "
      ]
     },
     "execution_count": 39,
     "metadata": {},
     "output_type": "execute_result"
    }
   ],
   "source": [
    "tfidf_vectorizer = TfidfVectorizer(max_df=0.8, max_features=10000)\n",
    "tfidf_matrix = tfidf_vectorizer.fit_transform(movies_data_cleaned['Summary'])\n",
    "feature_names = tfidf_vectorizer.get_feature_names_out()\n",
    "\n",
    "def get_top_n_keywords(row, top_n=25):\n",
    "    sorted_indices = np.argsort(row.toarray()).flatten()[::-1]\n",
    "    top_n_indices = sorted_indices[:top_n]\n",
    "    top_n_keywords = [feature_names[i] for i in top_n_indices]\n",
    "    return top_n_keywords\n",
    "\n",
    "movies_data_cleaned['Keywords'] = [get_top_n_keywords(row, top_n=5) for row in tfidf_matrix]\n",
    "\n",
    "movies_data_cleaned[['Summary', 'Keywords']].head()"
   ]
  },
  {
   "cell_type": "code",
   "execution_count": 40,
   "id": "35fad56a",
   "metadata": {},
   "outputs": [],
   "source": [
    "movies_data_cleaned['Keywords_str'] = movies_data_cleaned['Keywords'].apply(lambda x: ' '.join(x))"
   ]
  },
  {
   "cell_type": "code",
   "execution_count": 41,
   "id": "055485f6",
   "metadata": {},
   "outputs": [
    {
     "name": "stdout",
     "output_type": "stream",
     "text": [
      "TF-IDF Matrix Keywords shape: (3935, 8750)\n"
     ]
    }
   ],
   "source": [
    "from sklearn.feature_extraction.text import TfidfVectorizer\n",
    "tfidf_vectorizer_keywords = TfidfVectorizer()\n",
    "tfidf_matrix_keywords = tfidf_vectorizer_keywords.fit_transform(movies_data_cleaned['Keywords_str'])\n",
    "print(\"TF-IDF Matrix Keywords shape:\", tfidf_matrix_keywords.shape)"
   ]
  },
  {
   "cell_type": "markdown",
   "id": "5a67c65c-8d1c-45a7-96fb-ede63c73e4c4",
   "metadata": {},
   "source": [
    "## Preparation for model training"
   ]
  },
  {
   "cell_type": "markdown",
   "id": "d618589c-50a4-4c32-ad7b-a59a3973d4c2",
   "metadata": {},
   "source": [
    "We are creating a one-hot-encoding for each genre and cast member for this model. "
   ]
  },
  {
   "cell_type": "code",
   "execution_count": 42,
   "id": "ce98c66e",
   "metadata": {},
   "outputs": [],
   "source": [
    "genre1_dummies = pd.get_dummies(movies_data_cleaned['Genre_1'])\n",
    "genre2_dummies = pd.get_dummies(movies_data_cleaned['Genre_2'])\n",
    "genre3_dummies = pd.get_dummies(movies_data_cleaned['Genre_3'])\n",
    "genre4_dummies = pd.get_dummies(movies_data_cleaned['Genre_4'])\n",
    "genre5_dummies = pd.get_dummies(movies_data_cleaned['Genre_5'])"
   ]
  },
  {
   "cell_type": "code",
   "execution_count": 43,
   "id": "d041f977",
   "metadata": {},
   "outputs": [
    {
     "name": "stdout",
     "output_type": "stream",
     "text": [
      "Director Dummies shape: (3935, 2399)\n"
     ]
    }
   ],
   "source": [
    "director_dummies = pd.get_dummies(movies_data_cleaned['Director'])\n",
    "print(\"Director Dummies shape:\", director_dummies.shape)"
   ]
  },
  {
   "cell_type": "code",
   "execution_count": 44,
   "id": "e97421d9",
   "metadata": {},
   "outputs": [],
   "source": [
    "writers_dummies = pd.get_dummies(movies_data_cleaned['Writers'])"
   ]
  },
  {
   "cell_type": "code",
   "execution_count": 45,
   "id": "a3b882a3",
   "metadata": {},
   "outputs": [],
   "source": [
    "cast1_dummies = pd.get_dummies(movies_data_cleaned['Cast_1'])\n",
    "cast2_dummies = pd.get_dummies(movies_data_cleaned['Cast_2'])\n",
    "cast3_dummies = pd.get_dummies(movies_data_cleaned['Cast_3'])"
   ]
  },
  {
   "cell_type": "code",
   "execution_count": 46,
   "id": "3fd69f9c",
   "metadata": {},
   "outputs": [],
   "source": [
    "# stacking all of the encoded features together \n",
    "from scipy.sparse import hstack\n",
    "combined_features = hstack([tfidf_matrix_keywords, director_dummies,\n",
    "                            writers_dummies,cast1_dummies, cast2_dummies, cast3_dummies, \n",
    "                            genre1_dummies, genre2_dummies, genre3_dummies, genre4_dummies, genre5_dummies])"
   ]
  },
  {
   "cell_type": "markdown",
   "id": "60eb9270-8015-4dad-afe3-b4dd58f4beb9",
   "metadata": {},
   "source": [
    "## Cosine Similarity \n",
    "we are using cosine similarity to create a vector difference between each movie, where the difference is calculated with the encoded features. Close vectors are assumed to be similar movies in plot/genre/cast, and far vectors are assumed to be very unalike. "
   ]
  },
  {
   "cell_type": "code",
   "execution_count": 47,
   "id": "d5a41e9b",
   "metadata": {},
   "outputs": [],
   "source": [
    "from sklearn.metrics.pairwise import cosine_similarity\n",
    "cosine_sim = cosine_similarity(combined_features, combined_features)"
   ]
  },
  {
   "cell_type": "markdown",
   "id": "d84f3ab1-c2bd-4ecb-bbe1-ec7d73a34467",
   "metadata": {},
   "source": [
    "Because the cosine similarity is found by dot product, it should be commutative. "
   ]
  },
  {
   "cell_type": "code",
   "execution_count": 48,
   "id": "9d1bf52e-67c2-409b-afcc-0dfd13827a82",
   "metadata": {},
   "outputs": [
    {
     "name": "stdout",
     "output_type": "stream",
     "text": [
      "0.30000000000000004\n"
     ]
    },
    {
     "data": {
      "text/plain": [
       "0.30000000000000004"
      ]
     },
     "execution_count": 48,
     "metadata": {},
     "output_type": "execute_result"
    }
   ],
   "source": [
    "bool_title = movies_data_cleaned['Title'] == \"Finding Nemo\"\n",
    "idx_nemo = movies_data_cleaned[bool_title].index.tolist()[0]\n",
    "bool_title = movies_data_cleaned['Title'] == \"Finding Dory\"\n",
    "idx_dory = movies_data_cleaned[bool_title].index.tolist()[0]\n",
    "\n",
    "print(list(enumerate(cosine_sim[idx_dory]))[idx_nemo][1])\n",
    "list(enumerate(cosine_sim[idx_nemo]))[idx_dory][1]"
   ]
  },
  {
   "cell_type": "markdown",
   "id": "7ec22d03-df9b-49da-a88b-9c4bdc238e66",
   "metadata": {},
   "source": [
    "## Recommending \"Alike\" movies given a title"
   ]
  },
  {
   "cell_type": "code",
   "execution_count": 49,
   "id": "a2f408c1",
   "metadata": {},
   "outputs": [],
   "source": [
    "def recommend_movies(title, cosine_sim=cosine_sim, dissimilar=False):\n",
    "    # getting the index of the given title in our cosine similarity model \n",
    "    bool_title = movies_data_cleaned['Title'] == title\n",
    "    idx = movies_data_cleaned[bool_title].index.tolist()[0]\n",
    "    sim_scores = list(enumerate(cosine_sim[idx]))\n",
    "\n",
    "    # with this, we can find all of the nearby vectors, excludng the given title itself.\n",
    "    sim_scores = sorted(sim_scores, key=lambda x: x[1], reverse=not dissimilar)\n",
    "    sim_scores = sim_scores[0:11]\n",
    "    print(sim_scores)\n",
    "    movie_indices = [i[0] for i in sim_scores]\n",
    "    return movies_data_cleaned['Title'][movie_indices]"
   ]
  },
  {
   "cell_type": "code",
   "execution_count": 50,
   "id": "ce69b6e8-6a7b-4bfc-9bb4-c69362ab2ac8",
   "metadata": {},
   "outputs": [
    {
     "name": "stdout",
     "output_type": "stream",
     "text": [
      "[(579, 0.9999999999999999), (2341, 0.9398226687863819), (606, 0.5270462766947299), (244, 0.5), (276, 0.5), (351, 0.5), (429, 0.5), (492, 0.5), (514, 0.5), (573, 0.5), (650, 0.5)]\n"
     ]
    },
    {
     "data": {
      "text/plain": [
       "579                                          Finding Dory\n",
       "2341                                 Finding Vivian Maier\n",
       "606                 Captain Sparky vs. The Flying Saucers\n",
       "244     Phineas and Ferb the Movie: Across the 2nd Dim...\n",
       "276                                The Lego Ninjago Movie\n",
       "351                                       Despicable Me 3\n",
       "429                                 The LEGO Batman Movie\n",
       "492                                                 Moana\n",
       "514                                                Trolls\n",
       "573                               The Secret Life of Pets\n",
       "650         Scooby-Doo! and WWE: Curse of the Speed Demon\n",
       "Name: Title, dtype: object"
      ]
     },
     "execution_count": 50,
     "metadata": {},
     "output_type": "execute_result"
    }
   ],
   "source": [
    "recommendations = recommend_movies('Finding Dory')\n",
    "recommendations"
   ]
  },
  {
   "cell_type": "code",
   "execution_count": 51,
   "id": "1348a8ad",
   "metadata": {},
   "outputs": [
    {
     "name": "stdout",
     "output_type": "stream",
     "text": [
      "[(0, 0.0), (2, 0.0), (3, 0.0), (4, 0.0), (5, 0.0), (6, 0.0), (7, 0.0), (8, 0.0), (9, 0.0), (11, 0.0), (13, 0.0)]\n"
     ]
    },
    {
     "data": {
      "text/plain": [
       "0                           Patton Oswalt: Annihilation\n",
       "2     Mickey's Magical Christmas: Snowed in at the H...\n",
       "3                            Mickey's House of Villains\n",
       "4                                         And Then I Go\n",
       "5                              An Extremely Goofy Movie\n",
       "6                                          Peter Rabbit\n",
       "7                                            Love Songs\n",
       "8                                                    89\n",
       "9                                        The Foster Boy\n",
       "11                              Tom Segura: Disgraceful\n",
       "13                                  Secrets in the Fall\n",
       "Name: Title, dtype: object"
      ]
     },
     "execution_count": 51,
     "metadata": {},
     "output_type": "execute_result"
    }
   ],
   "source": [
    "recommendations = recommend_movies('New York Doll', dissimilar=True)\n",
    "recommendations"
   ]
  },
  {
   "cell_type": "markdown",
   "id": "f2589b8d-c190-4433-a007-90ac6addb3d8",
   "metadata": {},
   "source": [
    "#### Similar Movie Data Exploration"
   ]
  },
  {
   "cell_type": "code",
   "execution_count": 52,
   "id": "fc4aa1d8-85fe-4812-ab60-924fa35ded82",
   "metadata": {},
   "outputs": [
    {
     "name": "stdout",
     "output_type": "stream",
     "text": [
      "Shrek\n",
      "1674\n"
     ]
    },
    {
     "data": {
      "image/png": "[encoded data removed]",
      "text/plain": [
       "<Figure size 800x600 with 2 Axes>"
      ]
     },
     "metadata": {},
     "output_type": "display_data"
    }
   ],
   "source": [
    "import numpy as np\n",
    "import matplotlib.pyplot as plt\n",
    "\n",
    "# Sample categorical data\n",
    "# related movies\n",
    "bool_title = movies_data_cleaned['Title'] == 'Shrek'\n",
    "idx = movies_data_cleaned[bool_title].index.tolist()[0]\n",
    "sim_scores = list(enumerate(cosine_sim[idx]))\n",
    "sim_scores = sorted(sim_scores, key=lambda x: x[1], reverse=True)[:15]\n",
    "print(movies_data_cleaned['Title'][idx])\n",
    "print(idx)\n",
    "movie_indices = [i[0] for i in sim_scores]\n",
    "labels = list(movies_data_cleaned['Title'][movie_indices])\n",
    "labels.append(\"[Lower Bound]\")\n",
    "sim_scores.append((0,0))\n",
    "\n",
    "# stuff cosine similarity into matrix \n",
    "x, y = zip(*sim_scores)\n",
    "heat_arr = np.array([y]).transpose()\n",
    "\n",
    "# Create the heatmap\n",
    "plt.figure(figsize=(8, 6))\n",
    "plt.imshow(heat_arr, cmap='magma')\n",
    "\n",
    "# Add labels for x-axis and y-axis\n",
    "plt.yticks(np.arange(len(labels)), labels)\n",
    "plt.xticks([0], [\"Shrek\"])\n",
    "\n",
    "# Add a color bar\n",
    "plt.colorbar(label='Cosine Similarity')\n",
    "\n",
    "plt.title('Movies Similar to Shrek')\n",
    "plt.show()"
   ]
  },
  {
   "cell_type": "markdown",
   "id": "23bb3a77-4ff9-47f0-a126-65f940b58891",
   "metadata": {},
   "source": [
    "This makes sense because we would expect the similarity between Shrek, its sequels, and children's movies to be similar."
   ]
  },
  {
   "cell_type": "markdown",
   "id": "6a19bfcf-7d7c-44e2-8039-d3a0f74b8959",
   "metadata": {},
   "source": [
    "### Dissimilar Exploration"
   ]
  },
  {
   "cell_type": "code",
   "execution_count": 53,
   "id": "19a84025-4cf0-486c-b31f-8c19a592d39d",
   "metadata": {},
   "outputs": [
    {
     "name": "stdout",
     "output_type": "stream",
     "text": [
      "Shrek\n",
      "1674\n"
     ]
    },
    {
     "data": {
      "image/png": "[encoded data removed]",
      "text/plain": [
       "<Figure size 800x600 with 2 Axes>"
      ]
     },
     "metadata": {},
     "output_type": "display_data"
    }
   ],
   "source": [
    "import numpy as np\n",
    "import matplotlib.pyplot as plt\n",
    "\n",
    "# Sample categorical data\n",
    "# related movies\n",
    "bool_title = movies_data_cleaned['Title'] == 'Shrek'\n",
    "idx = movies_data_cleaned[bool_title].index.tolist()[0]\n",
    "sim_scores = list(enumerate(cosine_sim[idx]))\n",
    "np.random.shuffle(list(enumerate(cosine_sim[idx])))\n",
    "sim_scores = sorted(sim_scores, key=lambda x: x[1], reverse=False)[:15]\n",
    "print(movies_data_cleaned['Title'][idx])\n",
    "print(idx)\n",
    "movie_indices = [i[0] for i in sim_scores]\n",
    "labels = list(movies_data_cleaned['Title'][movie_indices])\n",
    "labels.append(\"[Lower Bound]\")\n",
    "sim_scores.append((0,0))\n",
    "\n",
    "# stuff cosine similarity into matrix \n",
    "x, y = zip(*sim_scores)\n",
    "heat_arr = np.array([y]).transpose()\n",
    "\n",
    "# Create the heatmap\n",
    "plt.figure(figsize=(8, 6))\n",
    "plt.imshow(heat_arr, cmap='magma')\n",
    "\n",
    "# Add labels for x-axis and y-axis\n",
    "plt.yticks(np.arange(len(labels)), labels)\n",
    "plt.xticks([0], [\"Shrek\"])\n",
    "\n",
    "# Add a color bar\n",
    "plt.colorbar(label='Cosine Similarity')\n",
    "\n",
    "plt.title('Movies NOT similar to Shrek')\n",
    "plt.show()"
   ]
  },
  {
   "cell_type": "markdown",
   "id": "1301e618-81dc-41d7-a394-13688fd5661c",
   "metadata": {},
   "source": [
    "### Free-Form input"
   ]
  },
  {
   "cell_type": "code",
   "execution_count": 54,
   "id": "9dc1a29e",
   "metadata": {},
   "outputs": [],
   "source": [
    "tfidf_vectorizer = TfidfVectorizer(stop_words='english')"
   ]
  },
  {
   "cell_type": "code",
   "execution_count": 55,
   "id": "6db8b905",
   "metadata": {},
   "outputs": [],
   "source": [
    "tfidf_matrix_summaries = tfidf_vectorizer.fit_transform(movies_data_cleaned['Summary'])"
   ]
  },
  {
   "cell_type": "code",
   "execution_count": 56,
   "id": "6c6a6e68",
   "metadata": {},
   "outputs": [],
   "source": [
    "def recommend_movies_based_on_input_plot(input_plot, tfidf_vectorizer=tfidf_vectorizer, tfidf_matrix=tfidf_matrix_summaries):\n",
    "    input_vec = tfidf_vectorizer.transform([input_plot])\n",
    "    cosine_sim = cosine_similarity(input_vec, tfidf_matrix)\n",
    "    sim_scores = list(enumerate(cosine_sim[0]))\n",
    "    sim_scores = sorted(sim_scores, key=lambda x: x[1], reverse=True)\n",
    "    sim_scores = sim_scores[1:11]\n",
    "    movie_indices = [i[0] for i in sim_scores]\n",
    "    return movies_data_cleaned['Title'].iloc[movie_indices]\n"
   ]
  },
  {
   "cell_type": "code",
   "execution_count": 57,
   "id": "2e8ba8ad",
   "metadata": {},
   "outputs": [
    {
     "name": "stdout",
     "output_type": "stream",
     "text": [
      "3003                                         Pan\n",
      "1476    The Disappearance of Eleanor Rigby: Them\n",
      "1199           Tinker Bell and the Lost Treasure\n",
      "2085                                       K-PAX\n",
      "1671                             Shrek the Third\n",
      "1852                   Oz the Great and Powerful\n",
      "698                                 Nanny McPhee\n",
      "1478     The Disappearance of Eleanor Rigby: Her\n",
      "1237                             The Water Horse\n",
      "2545                                   Cast Away\n",
      "Name: Title, dtype: object\n"
     ]
    }
   ],
   "source": [
    "input_plot = \"A story about the adventures in a magical land far away.\"\n",
    "recommended_movies = recommend_movies_based_on_input_plot(input_plot)\n",
    "print(recommended_movies)"
   ]
  },
  {
   "cell_type": "markdown",
   "id": "95639f58-dc9a-4098-94c4-8dea9ee3c205",
   "metadata": {},
   "source": [
    "This produces a pretty good result. Let's compare effects caused by change in keywords/ adjectives"
   ]
  },
  {
   "cell_type": "code",
   "execution_count": 58,
   "id": "a141e69b-3ca7-4062-af10-52563f796803",
   "metadata": {},
   "outputs": [
    {
     "name": "stdout",
     "output_type": "stream",
     "text": [
      "381                              The Case for Christ\n",
      "1395                          The Inbetweeners Movie\n",
      "1959                 Metallica: Some Kind of Monster\n",
      "266     Chasing Trane: The John Coltrane Documentary\n",
      "2931                                   Alien Outpost\n",
      "1753                                  Righteous Kill\n",
      "3904                                           Elles\n",
      "2713                                    African Cats\n",
      "233                                           Voyeur\n",
      "2035                                       Leviathan\n",
      "Name: Title, dtype: object\n"
     ]
    }
   ],
   "source": [
    "input_plot = \"Documentary that features cool investigative journalism\"\n",
    "recommended_movies = recommend_movies_based_on_input_plot(input_plot)\n",
    "print(recommended_movies)"
   ]
  },
  {
   "cell_type": "code",
   "execution_count": 64,
   "id": "dfd8da06-7838-4764-986f-5502c0edc15b",
   "metadata": {},
   "outputs": [
    {
     "name": "stdout",
     "output_type": "stream",
     "text": [
      "381                              The Case for Christ\n",
      "1959                 Metallica: Some Kind of Monster\n",
      "266     Chasing Trane: The John Coltrane Documentary\n",
      "2931                                   Alien Outpost\n",
      "1753                                  Righteous Kill\n",
      "3904                                           Elles\n",
      "2713                                    African Cats\n",
      "233                                           Voyeur\n",
      "2035                                       Leviathan\n",
      "1397                                    The Imposter\n",
      "Name: Title, dtype: object\n"
     ]
    }
   ],
   "source": [
    "input_plot = \"Documentary that features investigative journalism\"\n",
    "recommended_movies = recommend_movies_based_on_input_plot(input_plot)\n",
    "print(recommended_movies)"
   ]
  },
  {
   "cell_type": "markdown",
   "id": "36d4c77f-d057-400d-b4d9-ccd32aa36d6c",
   "metadata": {},
   "source": [
    "As you can see, the recommendation of \"The Inbetweeners Movie\" hinges solely on the word \"cool\""
   ]
  },
  {
   "cell_type": "code",
   "execution_count": 65,
   "id": "221a0cfe",
   "metadata": {},
   "outputs": [
    {
     "name": "stdout",
     "output_type": "stream",
     "text": [
      "Recommended Movie: Slumdog Millionaire\n"
     ]
    }
   ],
   "source": [
    "def recommend_movie(input_plot, preferred_genre, tfidf_vectorizer=tfidf_vectorizer, tfidf_matrix=tfidf_matrix_summaries, movies_data=movies_data_cleaned):\n",
    "    input_vec = tfidf_vectorizer.transform([input_plot])\n",
    "    genre_columns = ['Genre_1', 'Genre_2', 'Genre_3', 'Genre_4', 'Genre_5'] \n",
    "    filtered_movies = movies_data[genre_columns].apply(lambda x: x.str.contains(preferred_genre, case=False, na=False)).any(axis=1)\n",
    "    filtered_movies_data = movies_data[filtered_movies]\n",
    "    if not filtered_movies_data.empty:\n",
    "        filtered_tfidf_matrix = tfidf_matrix[filtered_movies_data.index]\n",
    "        cosine_sim = cosine_similarity(input_vec, filtered_tfidf_matrix)\n",
    "        best_match_idx = cosine_sim.argmax()\n",
    "        recommended_movie_title = filtered_movies_data.iloc[best_match_idx]['Title']\n",
    "        return recommended_movie_title\n",
    "    else:\n",
    "        return \"No movies found in the preferred genre.\"\n",
    "input_plot = \"A young woman's journey through love and heartbreak.\"\n",
    "preferred_genre = \"Romance\"\n",
    "recommended_movie = recommend_movie(input_plot, preferred_genre)\n",
    "print(f\"Recommended Movie: {recommended_movie}\")\n"
   ]
  },
  {
   "cell_type": "code",
   "execution_count": 66,
   "id": "5dc6c5d4",
   "metadata": {},
   "outputs": [
    {
     "name": "stdin",
     "output_type": "stream",
     "text": [
      "Enter a plot summary:  hello\n",
      "Enter your preferred genre:  s\n"
     ]
    },
    {
     "ename": "IndexError",
     "evalue": "index (3939) out of range",
     "output_type": "error",
     "traceback": [
      "\u001b[1;31m---------------------------------------------------------------------------\u001b[0m",
      "\u001b[1;31mIndexError\u001b[0m                                Traceback (most recent call last)",
      "Cell \u001b[1;32mIn[66], line 18\u001b[0m\n\u001b[0;32m     15\u001b[0m         \u001b[38;5;28;01mreturn\u001b[39;00m \u001b[38;5;124m\"\u001b[39m\u001b[38;5;124mNo movies found in the preferred genre.\u001b[39m\u001b[38;5;124m\"\u001b[39m\n\u001b[0;32m     17\u001b[0m \u001b[38;5;66;03m# Run the recommendation function and print the recommended movie\u001b[39;00m\n\u001b[1;32m---> 18\u001b[0m recommended_movie \u001b[38;5;241m=\u001b[39m \u001b[43mrecommend_movie\u001b[49m\u001b[43m(\u001b[49m\u001b[43m)\u001b[49m\n\u001b[0;32m     19\u001b[0m \u001b[38;5;28mprint\u001b[39m(\u001b[38;5;124mf\u001b[39m\u001b[38;5;124m\"\u001b[39m\u001b[38;5;124mRecommended Movie: \u001b[39m\u001b[38;5;132;01m{\u001b[39;00mrecommended_movie\u001b[38;5;132;01m}\u001b[39;00m\u001b[38;5;124m\"\u001b[39m)\n",
      "Cell \u001b[1;32mIn[66], line 9\u001b[0m, in \u001b[0;36mrecommend_movie\u001b[1;34m(tfidf_vectorizer, tfidf_matrix, movies_data)\u001b[0m\n\u001b[0;32m      7\u001b[0m filtered_movies_data \u001b[38;5;241m=\u001b[39m movies_data[filtered_movies]\n\u001b[0;32m      8\u001b[0m \u001b[38;5;28;01mif\u001b[39;00m \u001b[38;5;129;01mnot\u001b[39;00m filtered_movies_data\u001b[38;5;241m.\u001b[39mempty:\n\u001b[1;32m----> 9\u001b[0m     filtered_tfidf_matrix \u001b[38;5;241m=\u001b[39m \u001b[43mtfidf_matrix\u001b[49m\u001b[43m[\u001b[49m\u001b[43mfiltered_movies_data\u001b[49m\u001b[38;5;241;43m.\u001b[39;49m\u001b[43mindex\u001b[49m\u001b[43m]\u001b[49m\n\u001b[0;32m     10\u001b[0m     cosine_sim \u001b[38;5;241m=\u001b[39m cosine_similarity(input_vec, filtered_tfidf_matrix)\n\u001b[0;32m     11\u001b[0m     best_match_idx \u001b[38;5;241m=\u001b[39m cosine_sim\u001b[38;5;241m.\u001b[39margmax()\n",
      "File \u001b[1;32m~\\AppData\\Roaming\\Python\\Python312\\site-packages\\scipy\\sparse\\_index.py:46\u001b[0m, in \u001b[0;36mIndexMixin.__getitem__\u001b[1;34m(self, key)\u001b[0m\n\u001b[0;32m     45\u001b[0m \u001b[38;5;28;01mdef\u001b[39;00m \u001b[38;5;21m__getitem__\u001b[39m(\u001b[38;5;28mself\u001b[39m, key):\n\u001b[1;32m---> 46\u001b[0m     row, col \u001b[38;5;241m=\u001b[39m \u001b[38;5;28;43mself\u001b[39;49m\u001b[38;5;241;43m.\u001b[39;49m\u001b[43m_validate_indices\u001b[49m\u001b[43m(\u001b[49m\u001b[43mkey\u001b[49m\u001b[43m)\u001b[49m\n\u001b[0;32m     48\u001b[0m     \u001b[38;5;66;03m# Dispatch to specialized methods.\u001b[39;00m\n\u001b[0;32m     49\u001b[0m     \u001b[38;5;28;01mif\u001b[39;00m \u001b[38;5;28misinstance\u001b[39m(row, INT_TYPES):\n",
      "File \u001b[1;32m~\\AppData\\Roaming\\Python\\Python312\\site-packages\\scipy\\sparse\\_index.py:158\u001b[0m, in \u001b[0;36mIndexMixin._validate_indices\u001b[1;34m(self, key)\u001b[0m\n\u001b[0;32m    156\u001b[0m         row \u001b[38;5;241m+\u001b[39m\u001b[38;5;241m=\u001b[39m M\n\u001b[0;32m    157\u001b[0m \u001b[38;5;28;01melif\u001b[39;00m \u001b[38;5;129;01mnot\u001b[39;00m \u001b[38;5;28misinstance\u001b[39m(row, \u001b[38;5;28mslice\u001b[39m):\n\u001b[1;32m--> 158\u001b[0m     row \u001b[38;5;241m=\u001b[39m \u001b[38;5;28;43mself\u001b[39;49m\u001b[38;5;241;43m.\u001b[39;49m\u001b[43m_asindices\u001b[49m\u001b[43m(\u001b[49m\u001b[43mrow\u001b[49m\u001b[43m,\u001b[49m\u001b[43m \u001b[49m\u001b[43mM\u001b[49m\u001b[43m)\u001b[49m\n\u001b[0;32m    160\u001b[0m \u001b[38;5;28;01mif\u001b[39;00m isintlike(col):\n\u001b[0;32m    161\u001b[0m     col \u001b[38;5;241m=\u001b[39m \u001b[38;5;28mint\u001b[39m(col)\n",
      "File \u001b[1;32m~\\AppData\\Roaming\\Python\\Python312\\site-packages\\scipy\\sparse\\_index.py:190\u001b[0m, in \u001b[0;36mIndexMixin._asindices\u001b[1;34m(self, idx, length)\u001b[0m\n\u001b[0;32m    188\u001b[0m max_indx \u001b[38;5;241m=\u001b[39m x\u001b[38;5;241m.\u001b[39mmax()\n\u001b[0;32m    189\u001b[0m \u001b[38;5;28;01mif\u001b[39;00m max_indx \u001b[38;5;241m>\u001b[39m\u001b[38;5;241m=\u001b[39m length:\n\u001b[1;32m--> 190\u001b[0m     \u001b[38;5;28;01mraise\u001b[39;00m \u001b[38;5;167;01mIndexError\u001b[39;00m(\u001b[38;5;124m'\u001b[39m\u001b[38;5;124mindex (\u001b[39m\u001b[38;5;132;01m%d\u001b[39;00m\u001b[38;5;124m) out of range\u001b[39m\u001b[38;5;124m'\u001b[39m \u001b[38;5;241m%\u001b[39m max_indx)\n\u001b[0;32m    192\u001b[0m min_indx \u001b[38;5;241m=\u001b[39m x\u001b[38;5;241m.\u001b[39mmin()\n\u001b[0;32m    193\u001b[0m \u001b[38;5;28;01mif\u001b[39;00m min_indx \u001b[38;5;241m<\u001b[39m \u001b[38;5;241m0\u001b[39m:\n",
      "\u001b[1;31mIndexError\u001b[0m: index (3939) out of range"
     ]
    }
   ],
   "source": [
    "def recommend_movie(tfidf_vectorizer=tfidf_vectorizer, tfidf_matrix=tfidf_matrix_summaries, movies_data=movies_data_cleaned):\n",
    "    input_plot = input(\"Enter a plot summary: \")\n",
    "    input_vec = tfidf_vectorizer.transform([input_plot])\n",
    "    preferred_genre = input(\"Enter your preferred genre: \")\n",
    "    genre_columns = ['Genre_1', 'Genre_2', 'Genre_3', 'Genre_4', 'Genre_5']\n",
    "    filtered_movies = movies_data[genre_columns].apply(lambda x: x.str.contains(preferred_genre, case=False, na=False)).any(axis=1)\n",
    "    filtered_movies_data = movies_data[filtered_movies]\n",
    "    if not filtered_movies_data.empty:\n",
    "        filtered_tfidf_matrix = tfidf_matrix[filtered_movies_data.index]\n",
    "        cosine_sim = cosine_similarity(input_vec, filtered_tfidf_matrix)\n",
    "        best_match_idx = cosine_sim.argmax()\n",
    "        recommended_movie_title = filtered_movies_data.iloc[best_match_idx]['Title']\n",
    "        return recommended_movie_title\n",
    "    else:\n",
    "        return \"No movies found in the preferred genre.\"\n",
    "\n",
    "# Run the recommendation function and print the recommended movie\n",
    "recommended_movie = recommend_movie()\n",
    "print(f\"Recommended Movie: {recommended_movie}\")\n"
   ]
  },
  {
   "cell_type": "code",
   "execution_count": 62,
   "id": "762994e2-4f0e-470b-8d08-2fd795962029",
   "metadata": {},
   "outputs": [],
   "source": [
    "# saving model \n",
    "import joblib\n",
    "joblib.dump(tfidf_vectorizer, 'tfidf_vectorizer.joblib')\n",
    "np.save('cosine_similarity.npy', cosine_sim)\n",
    "np.save('tfidf_matrix_summaries.npy', tfidf_matrix_summaries)\n",
    "movies_data_cleaned.to_csv('movies_data_cleaned.csv', index=False)"
   ]
  },
  {
   "cell_type": "code",
   "execution_count": null,
   "id": "968b4d95-fcab-4cb3-9c94-87da386fd32f",
   "metadata": {},
   "outputs": [],
   "source": []
  }
 ],
 "metadata": {
  "kernelspec": {
   "display_name": "Python 3 (ipykernel)",
   "language": "python",
   "name": "python3"
  },
  "language_info": {
   "codemirror_mode": {
    "name": "ipython",
    "version": 3
   },
   "file_extension": ".py",
   "mimetype": "text/x-python",
   "name": "python",
   "nbconvert_exporter": "python",
   "pygments_lexer": "ipython3",
   "version": "3.12.2"
  }
 },
 "nbformat": 4,
 "nbformat_minor": 5
}
