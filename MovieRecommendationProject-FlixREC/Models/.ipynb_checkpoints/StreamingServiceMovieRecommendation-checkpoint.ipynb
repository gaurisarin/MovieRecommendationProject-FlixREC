{
 "cells": [
  {
   "cell_type": "code",
   "execution_count": 1,
   "id": "7a3270f1",
   "metadata": {},
   "outputs": [],
   "source": [
    "import pandas as pd\n",
    "import numpy as np\n",
    "from sklearn.feature_extraction.text import TfidfVectorizer\n",
    "import nltk\n",
    "import spacy\n",
    "import matplotlib.pyplot as plt\n",
    "import seaborn as sns"
   ]
  },
  {
   "cell_type": "code",
   "execution_count": 2,
   "id": "576f9663",
   "metadata": {},
   "outputs": [
    {
     "ename": "FileNotFoundError",
     "evalue": "[Errno 2] No such file or directory: 'amazonprimemovietitles.csv'",
     "output_type": "error",
     "traceback": [
      "\u001b[0;31m---------------------------------------------------------------------------\u001b[0m",
      "\u001b[0;31mFileNotFoundError\u001b[0m                         Traceback (most recent call last)",
      "\u001b[0;32m/var/folders/hr/rr1h0_1n68lfjhtzkjr4gjm80000gn/T/ipykernel_2504/1358809390.py\u001b[0m in \u001b[0;36m<module>\u001b[0;34m\u001b[0m\n\u001b[1;32m      1\u001b[0m \u001b[0mfile_path\u001b[0m \u001b[0;34m=\u001b[0m \u001b[0;34m'amazonprimemovietitles.csv'\u001b[0m\u001b[0;34m\u001b[0m\u001b[0;34m\u001b[0m\u001b[0m\n\u001b[0;32m----> 2\u001b[0;31m \u001b[0mamazonprime_data\u001b[0m \u001b[0;34m=\u001b[0m \u001b[0mpd\u001b[0m\u001b[0;34m.\u001b[0m\u001b[0mread_csv\u001b[0m\u001b[0;34m(\u001b[0m\u001b[0mfile_path\u001b[0m\u001b[0;34m)\u001b[0m\u001b[0;34m\u001b[0m\u001b[0;34m\u001b[0m\u001b[0m\n\u001b[0m\u001b[1;32m      3\u001b[0m \u001b[0mamazonprime_data\u001b[0m\u001b[0;34m[\u001b[0m\u001b[0;34m'service'\u001b[0m\u001b[0;34m]\u001b[0m \u001b[0;34m=\u001b[0m \u001b[0;34m'Amazon Prime'\u001b[0m\u001b[0;34m\u001b[0m\u001b[0;34m\u001b[0m\u001b[0m\n\u001b[1;32m      4\u001b[0m amazonprime_data = amazonprime_data.drop(['id','production_countries','seasons', \n\u001b[1;32m      5\u001b[0m                                           'imdb_id','imdb_votes','tmdb_score', 'age_certification'],axis=1)\n",
      "\u001b[0;32m/Library/Frameworks/Python.framework/Versions/3.9/lib/python3.9/site-packages/pandas/io/parsers/readers.py\u001b[0m in \u001b[0;36mread_csv\u001b[0;34m(filepath_or_buffer, sep, delimiter, header, names, index_col, usecols, dtype, engine, converters, true_values, false_values, skipinitialspace, skiprows, skipfooter, nrows, na_values, keep_default_na, na_filter, verbose, skip_blank_lines, parse_dates, infer_datetime_format, keep_date_col, date_parser, date_format, dayfirst, cache_dates, iterator, chunksize, compression, thousands, decimal, lineterminator, quotechar, quoting, doublequote, escapechar, comment, encoding, encoding_errors, dialect, on_bad_lines, delim_whitespace, low_memory, memory_map, float_precision, storage_options, dtype_backend)\u001b[0m\n\u001b[1;32m   1024\u001b[0m     \u001b[0mkwds\u001b[0m\u001b[0;34m.\u001b[0m\u001b[0mupdate\u001b[0m\u001b[0;34m(\u001b[0m\u001b[0mkwds_defaults\u001b[0m\u001b[0;34m)\u001b[0m\u001b[0;34m\u001b[0m\u001b[0;34m\u001b[0m\u001b[0m\n\u001b[1;32m   1025\u001b[0m \u001b[0;34m\u001b[0m\u001b[0m\n\u001b[0;32m-> 1026\u001b[0;31m     \u001b[0;32mreturn\u001b[0m \u001b[0m_read\u001b[0m\u001b[0;34m(\u001b[0m\u001b[0mfilepath_or_buffer\u001b[0m\u001b[0;34m,\u001b[0m \u001b[0mkwds\u001b[0m\u001b[0;34m)\u001b[0m\u001b[0;34m\u001b[0m\u001b[0;34m\u001b[0m\u001b[0m\n\u001b[0m\u001b[1;32m   1027\u001b[0m \u001b[0;34m\u001b[0m\u001b[0m\n\u001b[1;32m   1028\u001b[0m \u001b[0;34m\u001b[0m\u001b[0m\n",
      "\u001b[0;32m/Library/Frameworks/Python.framework/Versions/3.9/lib/python3.9/site-packages/pandas/io/parsers/readers.py\u001b[0m in \u001b[0;36m_read\u001b[0;34m(filepath_or_buffer, kwds)\u001b[0m\n\u001b[1;32m    618\u001b[0m \u001b[0;34m\u001b[0m\u001b[0m\n\u001b[1;32m    619\u001b[0m     \u001b[0;31m# Create the parser.\u001b[0m\u001b[0;34m\u001b[0m\u001b[0;34m\u001b[0m\u001b[0;34m\u001b[0m\u001b[0m\n\u001b[0;32m--> 620\u001b[0;31m     \u001b[0mparser\u001b[0m \u001b[0;34m=\u001b[0m \u001b[0mTextFileReader\u001b[0m\u001b[0;34m(\u001b[0m\u001b[0mfilepath_or_buffer\u001b[0m\u001b[0;34m,\u001b[0m \u001b[0;34m**\u001b[0m\u001b[0mkwds\u001b[0m\u001b[0;34m)\u001b[0m\u001b[0;34m\u001b[0m\u001b[0;34m\u001b[0m\u001b[0m\n\u001b[0m\u001b[1;32m    621\u001b[0m \u001b[0;34m\u001b[0m\u001b[0m\n\u001b[1;32m    622\u001b[0m     \u001b[0;32mif\u001b[0m \u001b[0mchunksize\u001b[0m \u001b[0;32mor\u001b[0m \u001b[0miterator\u001b[0m\u001b[0;34m:\u001b[0m\u001b[0;34m\u001b[0m\u001b[0;34m\u001b[0m\u001b[0m\n",
      "\u001b[0;32m/Library/Frameworks/Python.framework/Versions/3.9/lib/python3.9/site-packages/pandas/io/parsers/readers.py\u001b[0m in \u001b[0;36m__init__\u001b[0;34m(self, f, engine, **kwds)\u001b[0m\n\u001b[1;32m   1618\u001b[0m \u001b[0;34m\u001b[0m\u001b[0m\n\u001b[1;32m   1619\u001b[0m         \u001b[0mself\u001b[0m\u001b[0;34m.\u001b[0m\u001b[0mhandles\u001b[0m\u001b[0;34m:\u001b[0m \u001b[0mIOHandles\u001b[0m \u001b[0;34m|\u001b[0m \u001b[0;32mNone\u001b[0m \u001b[0;34m=\u001b[0m \u001b[0;32mNone\u001b[0m\u001b[0;34m\u001b[0m\u001b[0;34m\u001b[0m\u001b[0m\n\u001b[0;32m-> 1620\u001b[0;31m         \u001b[0mself\u001b[0m\u001b[0;34m.\u001b[0m\u001b[0m_engine\u001b[0m \u001b[0;34m=\u001b[0m \u001b[0mself\u001b[0m\u001b[0;34m.\u001b[0m\u001b[0m_make_engine\u001b[0m\u001b[0;34m(\u001b[0m\u001b[0mf\u001b[0m\u001b[0;34m,\u001b[0m \u001b[0mself\u001b[0m\u001b[0;34m.\u001b[0m\u001b[0mengine\u001b[0m\u001b[0;34m)\u001b[0m\u001b[0;34m\u001b[0m\u001b[0;34m\u001b[0m\u001b[0m\n\u001b[0m\u001b[1;32m   1621\u001b[0m \u001b[0;34m\u001b[0m\u001b[0m\n\u001b[1;32m   1622\u001b[0m     \u001b[0;32mdef\u001b[0m \u001b[0mclose\u001b[0m\u001b[0;34m(\u001b[0m\u001b[0mself\u001b[0m\u001b[0;34m)\u001b[0m \u001b[0;34m->\u001b[0m \u001b[0;32mNone\u001b[0m\u001b[0;34m:\u001b[0m\u001b[0;34m\u001b[0m\u001b[0;34m\u001b[0m\u001b[0m\n",
      "\u001b[0;32m/Library/Frameworks/Python.framework/Versions/3.9/lib/python3.9/site-packages/pandas/io/parsers/readers.py\u001b[0m in \u001b[0;36m_make_engine\u001b[0;34m(self, f, engine)\u001b[0m\n\u001b[1;32m   1878\u001b[0m                 \u001b[0;32mif\u001b[0m \u001b[0;34m\"b\"\u001b[0m \u001b[0;32mnot\u001b[0m \u001b[0;32min\u001b[0m \u001b[0mmode\u001b[0m\u001b[0;34m:\u001b[0m\u001b[0;34m\u001b[0m\u001b[0;34m\u001b[0m\u001b[0m\n\u001b[1;32m   1879\u001b[0m                     \u001b[0mmode\u001b[0m \u001b[0;34m+=\u001b[0m \u001b[0;34m\"b\"\u001b[0m\u001b[0;34m\u001b[0m\u001b[0;34m\u001b[0m\u001b[0m\n\u001b[0;32m-> 1880\u001b[0;31m             self.handles = get_handle(\n\u001b[0m\u001b[1;32m   1881\u001b[0m                 \u001b[0mf\u001b[0m\u001b[0;34m,\u001b[0m\u001b[0;34m\u001b[0m\u001b[0;34m\u001b[0m\u001b[0m\n\u001b[1;32m   1882\u001b[0m                 \u001b[0mmode\u001b[0m\u001b[0;34m,\u001b[0m\u001b[0;34m\u001b[0m\u001b[0;34m\u001b[0m\u001b[0m\n",
      "\u001b[0;32m/Library/Frameworks/Python.framework/Versions/3.9/lib/python3.9/site-packages/pandas/io/common.py\u001b[0m in \u001b[0;36mget_handle\u001b[0;34m(path_or_buf, mode, encoding, compression, memory_map, is_text, errors, storage_options)\u001b[0m\n\u001b[1;32m    871\u001b[0m         \u001b[0;32mif\u001b[0m \u001b[0mioargs\u001b[0m\u001b[0;34m.\u001b[0m\u001b[0mencoding\u001b[0m \u001b[0;32mand\u001b[0m \u001b[0;34m\"b\"\u001b[0m \u001b[0;32mnot\u001b[0m \u001b[0;32min\u001b[0m \u001b[0mioargs\u001b[0m\u001b[0;34m.\u001b[0m\u001b[0mmode\u001b[0m\u001b[0;34m:\u001b[0m\u001b[0;34m\u001b[0m\u001b[0;34m\u001b[0m\u001b[0m\n\u001b[1;32m    872\u001b[0m             \u001b[0;31m# Encoding\u001b[0m\u001b[0;34m\u001b[0m\u001b[0;34m\u001b[0m\u001b[0;34m\u001b[0m\u001b[0m\n\u001b[0;32m--> 873\u001b[0;31m             handle = open(\n\u001b[0m\u001b[1;32m    874\u001b[0m                 \u001b[0mhandle\u001b[0m\u001b[0;34m,\u001b[0m\u001b[0;34m\u001b[0m\u001b[0;34m\u001b[0m\u001b[0m\n\u001b[1;32m    875\u001b[0m                 \u001b[0mioargs\u001b[0m\u001b[0;34m.\u001b[0m\u001b[0mmode\u001b[0m\u001b[0;34m,\u001b[0m\u001b[0;34m\u001b[0m\u001b[0;34m\u001b[0m\u001b[0m\n",
      "\u001b[0;31mFileNotFoundError\u001b[0m: [Errno 2] No such file or directory: 'amazonprimemovietitles.csv'"
     ]
    }
   ],
   "source": [
    "file_path = 'amazonprimemovietitles.csv'\n",
    "amazonprime_data = pd.read_csv(file_path)\n",
    "amazonprime_data['service'] = 'Amazon Prime'\n",
    "amazonprime_data = amazonprime_data.drop(['id','production_countries','seasons', \n",
    "                                          'imdb_id','imdb_votes','tmdb_score', 'age_certification'],axis=1)\n",
    "amazonprime_data.to_csv('amazonprime_data.csv', index=False) \n",
    "amazonprime_data.head()"
   ]
  },
  {
   "cell_type": "code",
   "execution_count": null,
   "id": "5a0e1057",
   "metadata": {},
   "outputs": [],
   "source": [
    "file_path1 = 'netflixmovietitles.csv'\n",
    "netflix_data = pd.read_csv(file_path1)\n",
    "netflix_data['service'] = 'Netflix'\n",
    "netflix_data = netflix_data.drop(['id','production_countries','seasons', \n",
    "                                  'imdb_id','imdb_votes','tmdb_score', 'age_certification'],axis=1)\n",
    "netflix_data.to_csv('netflix_data.csv', index=False) \n",
    "netflix_data.head()"
   ]
  },
  {
   "cell_type": "code",
   "execution_count": null,
   "id": "5b89706c",
   "metadata": {},
   "outputs": [],
   "source": [
    "file_path2 = 'hulumovietitles.csv'\n",
    "hulu_data = pd.read_csv(file_path2)\n",
    "hulu_data['service'] = 'Hulu'\n",
    "hulu_data = hulu_data.drop(['id','production_countries','seasons', \n",
    "                                  'imdb_id','imdb_votes','tmdb_score', 'age_certification'],axis=1)\n",
    "hulu_data.to_csv('hulu_data.csv', index=False) \n",
    "hulu_data.head()"
   ]
  },
  {
   "cell_type": "code",
   "execution_count": null,
   "id": "918050b9",
   "metadata": {},
   "outputs": [],
   "source": [
    "file_path3 = 'hbomaxmovietitles.csv'\n",
    "hbomax_data = pd.read_csv(file_path3)\n",
    "hbomax_data['service'] = 'HBO Max'\n",
    "hbomax_data = hbomax_data.drop(['id','production_countries','seasons', \n",
    "                                  'imdb_id','imdb_votes','tmdb_score', 'age_certification'],axis=1)\n",
    "hbomax_data.to_csv('hbomax_data.csv', index=False) \n",
    "hbomax_data.head()"
   ]
  },
  {
   "cell_type": "code",
   "execution_count": null,
   "id": "b3e6f2f0",
   "metadata": {},
   "outputs": [],
   "source": [
    "file_path4 = 'disneyplusmovietitles.csv'\n",
    "disneyplus_data = pd.read_csv(file_path4)\n",
    "disneyplus_data['service'] = 'Disney Plus'\n",
    "disneyplus_data = disneyplus_data.drop(['id','production_countries','seasons', \n",
    "                                  'imdb_id','imdb_votes','tmdb_score', 'age_certification'],axis=1)\n",
    "disneyplus_data.to_csv('disneyplus_data.csv', index=False) \n",
    "disneyplus_data.head()"
   ]
  },
  {
   "cell_type": "code",
   "execution_count": null,
   "id": "a0755cc3",
   "metadata": {},
   "outputs": [],
   "source": [
    "file_path5 = 'paramountmovietitles.csv'\n",
    "paramount_data = pd.read_csv(file_path5)\n",
    "paramount_data['service'] = 'Paramount'\n",
    "paramount_data = paramount_data.drop(['id','production_countries','seasons', \n",
    "                                  'imdb_id','imdb_votes','tmdb_score', 'age_certification'],axis=1)\n",
    "paramount_data.to_csv('paramount_data.csv', index=False) \n",
    "paramount_data.head()"
   ]
  },
  {
   "cell_type": "code",
   "execution_count": null,
   "id": "d921fec0",
   "metadata": {},
   "outputs": [],
   "source": [
    "movies_data = pd.concat([amazonprime_data, netflix_data, hulu_data, hbomax_data, disneyplus_data, paramount_data])\n",
    "movies_data.to_csv('combined_streaming_data.csv', index=False)\n",
    "movies_data.head()"
   ]
  },
  {
   "cell_type": "code",
   "execution_count": null,
   "id": "804f4387",
   "metadata": {},
   "outputs": [],
   "source": [
    "# preprocessing data / removing nulls\n",
    "missing_values = movies_data.isnull().sum()\n",
    "# print(missing_values)\n",
    "movies_data_cleaned = movies_data.dropna(subset=['description']).copy()\n",
    "movies_data_cleaned = movies_data.dropna(subset = ['genres']).copy()\n"
   ]
  },
  {
   "cell_type": "code",
   "execution_count": null,
   "id": "b65cb2e9",
   "metadata": {},
   "outputs": [],
   "source": [
    "num_rows = len(movies_data_cleaned)\n",
    "print(\"Number of rows:\", num_rows)"
   ]
  },
  {
   "cell_type": "code",
   "execution_count": null,
   "id": "b49c19c9",
   "metadata": {},
   "outputs": [],
   "source": [
    "movies_data_cleaned = movies_data_cleaned[movies_data_cleaned['description'].apply(lambda x: isinstance(x, str))]\n",
    "print(\"Number of rows after removal:\", len(movies_data_cleaned))"
   ]
  },
  {
   "cell_type": "code",
   "execution_count": null,
   "id": "b5eee61b",
   "metadata": {},
   "outputs": [],
   "source": [
    "import nltk\n",
    "from nltk.corpus import stopwords\n",
    "from nltk.stem import WordNetLemmatizer\n",
    "from nltk.tokenize import word_tokenize\n",
    "nltk.download('punkt')\n",
    "nltk.download('stopwords')\n",
    "nltk.download('wordnet')\n",
    "\n",
    "def lemmatize_(text):\n",
    "    lemmatizer = WordNetLemmatizer()\n",
    "    stop_words = set(stopwords.words(\"english\"))\n",
    "    return ' '.join([lemmatizer.lemmatize(word) for word in text.split() if word not in stop_words])"
   ]
  },
  {
   "cell_type": "code",
   "execution_count": null,
   "id": "d43b4989",
   "metadata": {},
   "outputs": [],
   "source": [
    "movies_data_cleaned['description'] = movies_data_cleaned['description'].str.replace('[^\\w\\s]', '', regex=True)\n",
    "movies_data_cleaned['description'] = movies_data_cleaned['description'].str.lower()\n",
    "movies_data_cleaned['description'] = movies_data_cleaned['description'].apply(lemmatize_)"
   ]
  },
  {
   "cell_type": "code",
   "execution_count": null,
   "id": "b27c0587",
   "metadata": {},
   "outputs": [],
   "source": [
    "pad_chars = lambda s: s[:400] if len(s) > 400 else s + (' ' * (400 - len(s)))\n",
    "movies_data_cleaned['description'] = movies_data_cleaned['description'].apply(pad_chars) "
   ]
  },
  {
   "cell_type": "code",
   "execution_count": null,
   "id": "68bba4ce",
   "metadata": {},
   "outputs": [],
   "source": [
    "movies_data_cleaned['description'].apply(len)"
   ]
  },
  {
   "cell_type": "code",
   "execution_count": null,
   "id": "8b0965ab",
   "metadata": {},
   "outputs": [],
   "source": [
    "# if there are multiple genres then seperating the next genres into a different column \n",
    "movies_data_cleaned['genres'] = movies_data_cleaned['genres'].str.replace(r\"[\\[\\]']\", '', regex=True)\n",
    "genres_split = movies_data_cleaned['genres'].str.split(',', expand=True)\n",
    "for i in range(genres_split.shape[1]):\n",
    "    movies_data_cleaned[f'genre_{i+1}'] = genres_split[i]\n",
    "for col in movies_data_cleaned.columns:\n",
    "    if 'genre_' in col:\n",
    "        movies_data_cleaned[col] = movies_data_cleaned[col].str.lower().str.strip()\n",
    "\n",
    "movies_data_cleaned.drop(columns=['genres'], inplace=True)\n",
    "movies_data_cleaned.head(1)"
   ]
  },
  {
   "cell_type": "code",
   "execution_count": null,
   "id": "d5ead546",
   "metadata": {},
   "outputs": [],
   "source": [
    "bool_title = movies_data_cleaned['title'] == \"Finding Dory\"\n",
    "movies_data_cleaned[bool_title]['description'].item()"
   ]
  },
  {
   "cell_type": "code",
   "execution_count": null,
   "id": "23a59dc0",
   "metadata": {},
   "outputs": [],
   "source": [
    "bool_title = movies_data_cleaned['title'] == \"Finding Nemo\"\n",
    "movies_data_cleaned[bool_title]['description'].item()"
   ]
  },
  {
   "cell_type": "code",
   "execution_count": null,
   "id": "b8407f64",
   "metadata": {},
   "outputs": [],
   "source": [
    "#tf-idf\n",
    "from sklearn.feature_extraction.text import TfidfVectorizer\n",
    "tfidf_vectorizer = TfidfVectorizer(min_df=3, max_features=None, \n",
    "                                   strip_accents='unicode', analyzer='word', token_pattern=r'\\w{1,}',\n",
    "                                   ngram_range=(1, 3), use_idf=True, smooth_idf=True, sublinear_tf=True,\n",
    "                                   stop_words='english')\n",
    "tfidf_matrix = tfidf_vectorizer.fit_transform(movies_data_cleaned['description'])"
   ]
  },
  {
   "cell_type": "code",
   "execution_count": null,
   "id": "1b26b2cd",
   "metadata": {},
   "outputs": [],
   "source": [
    "tfidf_vectorizer = TfidfVectorizer(max_df=0.8, max_features=10000)\n",
    "tfidf_matrix = tfidf_vectorizer.fit_transform(movies_data_cleaned['description'])\n",
    "feature_names = tfidf_vectorizer.get_feature_names_out()\n",
    "\n",
    "def get_top_n_keywords(row, top_n=25):\n",
    "    sorted_indices = np.argsort(row.toarray()).flatten()[::-1]\n",
    "    top_n_indices = sorted_indices[:top_n]\n",
    "    top_n_keywords = [feature_names[i] for i in top_n_indices]\n",
    "    return top_n_keywords\n",
    "\n",
    "movies_data_cleaned['Keywords'] = [get_top_n_keywords(row, top_n=5) for row in tfidf_matrix]\n",
    "\n",
    "movies_data_cleaned[['description', 'Keywords']].head()"
   ]
  },
  {
   "cell_type": "code",
   "execution_count": null,
   "id": "6ab9325e",
   "metadata": {},
   "outputs": [],
   "source": [
    "movies_data_cleaned['Keywords_str'] = movies_data_cleaned['Keywords'].apply(lambda x: ' '.join(x))"
   ]
  },
  {
   "cell_type": "code",
   "execution_count": null,
   "id": "88de35a9",
   "metadata": {},
   "outputs": [],
   "source": [
    "from sklearn.feature_extraction.text import TfidfVectorizer\n",
    "tfidf_vectorizer_keywords = TfidfVectorizer()\n",
    "tfidf_matrix_keywords = tfidf_vectorizer_keywords.fit_transform(movies_data_cleaned['Keywords_str'])\n",
    "print(\"TF-IDF Matrix Keywords shape:\", tfidf_matrix_keywords.shape)"
   ]
  },
  {
   "cell_type": "code",
   "execution_count": null,
   "id": "16de3331",
   "metadata": {},
   "outputs": [],
   "source": [
    "#training model\n",
    "genre1_dummies = pd.get_dummies(movies_data_cleaned['genre_1'])\n",
    "genre2_dummies = pd.get_dummies(movies_data_cleaned['genre_2'])\n",
    "genre3_dummies = pd.get_dummies(movies_data_cleaned['genre_3'])\n",
    "genre4_dummies = pd.get_dummies(movies_data_cleaned['genre_4'])\n",
    "genre5_dummies = pd.get_dummies(movies_data_cleaned['genre_5'])\n",
    "genre6_dummies = pd.get_dummies(movies_data_cleaned['genre_6'])\n",
    "genre7_dummies = pd.get_dummies(movies_data_cleaned['genre_7'])"
   ]
  },
  {
   "cell_type": "code",
   "execution_count": null,
   "id": "e750af4e",
   "metadata": {},
   "outputs": [],
   "source": [
    "from scipy.sparse import hstack\n",
    "combined_features = hstack([tfidf_matrix_keywords, genre2_dummies,genre1_dummies, genre3_dummies, genre4_dummies, genre5_dummies, genre6_dummies, genre7_dummies])"
   ]
  },
  {
   "cell_type": "code",
   "execution_count": null,
   "id": "f6d54d6f",
   "metadata": {},
   "outputs": [],
   "source": [
    "from sklearn.metrics.pairwise import cosine_similarity\n",
    "cosine_sim = cosine_similarity(combined_features, combined_features)"
   ]
  },
  {
   "cell_type": "code",
   "execution_count": null,
   "id": "8f5e7376",
   "metadata": {},
   "outputs": [],
   "source": [
    "bool_title = movies_data_cleaned['title'] == \"Finding Nemo\"\n",
    "idx_nemo = movies_data_cleaned[bool_title].index.tolist()[0]\n",
    "bool_title = movies_data_cleaned['title'] == \"Finding Dory\"\n",
    "idx_dory = movies_data_cleaned[bool_title].index.tolist()[0]\n",
    "\n",
    "print(list(enumerate(cosine_sim[idx_dory]))[idx_nemo][1])\n",
    "list(enumerate(cosine_sim[idx_nemo]))[idx_dory][1]"
   ]
  },
  {
   "cell_type": "code",
   "execution_count": null,
   "id": "8d30dcf7",
   "metadata": {},
   "outputs": [],
   "source": [
    "def recommend_movies(title, cosine_sim=cosine_sim, dissimilar=False):\n",
    "    bool_title = movies_data_cleaned['title'] == title\n",
    "    idx = movies_data_cleaned[bool_title].index.tolist()[0]\n",
    "    sim_scores = list(enumerate(cosine_sim[idx]))\n",
    "    sim_scores = sorted(sim_scores, key=lambda x: x[1], reverse=not dissimilar)\n",
    "    sim_scores = sim_scores[0:11]\n",
    "    print(sim_scores)\n",
    "    movie_indices = [i[0] for i in sim_scores]\n",
    "    return movies_data_cleaned['title'][movie_indices]"
   ]
  },
  {
   "cell_type": "code",
   "execution_count": null,
   "id": "b7ce7101",
   "metadata": {},
   "outputs": [],
   "source": [
    "recommendations = recommend_movies('Finding Dory')\n",
    "recommendations"
   ]
  },
  {
   "cell_type": "code",
   "execution_count": null,
   "id": "f430ea81",
   "metadata": {},
   "outputs": [],
   "source": [
    "recommendations = recommend_movies('New York Doll', dissimilar=True)\n",
    "recommendations"
   ]
  },
  {
   "cell_type": "code",
   "execution_count": null,
   "id": "4a1f6b2c",
   "metadata": {},
   "outputs": [],
   "source": [
    "tfidf_vectorizer = TfidfVectorizer(stop_words='english')"
   ]
  },
  {
   "cell_type": "code",
   "execution_count": null,
   "id": "3553ab27",
   "metadata": {},
   "outputs": [],
   "source": [
    "tfidf_matrix_summaries = tfidf_vectorizer.fit_transform(movies_data_cleaned['description'])"
   ]
  },
  {
   "cell_type": "code",
   "execution_count": null,
   "id": "739fab49",
   "metadata": {},
   "outputs": [],
   "source": [
    "def recommend_movies_based_on_input_plot(input_plot, tfidf_vectorizer=tfidf_vectorizer, tfidf_matrix=tfidf_matrix_summaries):\n",
    "    input_vec = tfidf_vectorizer.transform([input_plot])\n",
    "    cosine_sim = cosine_similarity(input_vec, tfidf_matrix)\n",
    "    sim_scores = list(enumerate(cosine_sim[0]))\n",
    "    sim_scores = sorted(sim_scores, key=lambda x: x[1], reverse=True)\n",
    "    sim_scores = sim_scores[1:11]\n",
    "    movie_indices = [i[0] for i in sim_scores]\n",
    "    return movies_data_cleaned['title'].iloc[movie_indices]\n",
    "\n"
   ]
  },
  {
   "cell_type": "code",
   "execution_count": null,
   "id": "85cb696c",
   "metadata": {},
   "outputs": [],
   "source": [
    "input_plot = \"A story about the adventures in a magical land far away.\"\n",
    "recommended_movies = recommend_movies_based_on_input_plot(input_plot)\n",
    "print(recommended_movies)"
   ]
  },
  {
   "cell_type": "code",
   "execution_count": null,
   "id": "ce6c4949",
   "metadata": {},
   "outputs": [],
   "source": [
    "input_plot = \"Documentary that features cool investigative journalism\"\n",
    "recommended_movies = recommend_movies_based_on_input_plot(input_plot)\n",
    "print(recommended_movies)"
   ]
  },
  {
   "cell_type": "code",
   "execution_count": null,
   "id": "b12a7238",
   "metadata": {},
   "outputs": [],
   "source": [
    "input_plot = \"Documentary that features investigative journalism\"\n",
    "recommended_movies = recommend_movies_based_on_input_plot(input_plot)\n",
    "print(recommended_movies)"
   ]
  },
  {
   "cell_type": "code",
   "execution_count": null,
   "id": "1a5b452c",
   "metadata": {},
   "outputs": [],
   "source": [
    "def recommend_movie(input_plot, preferred_genre, tfidf_vectorizer=tfidf_vectorizer, tfidf_matrix=tfidf_matrix_summaries, movies_data=movies_data_cleaned):\n",
    "    input_vec = tfidf_vectorizer.transform([input_plot])\n",
    "    genre_columns = ['genre_1', 'genre_2', 'genre_3', 'genre_4', 'genre_5', 'genre_6', 'genre_7'] \n",
    "    filtered_movies = movies_data[genre_columns].apply(lambda x: x.str.contains(preferred_genre, case=False, na=False)).any(axis=1)\n",
    "    filtered_movies_data = movies_data[filtered_movies]\n",
    "    if not filtered_movies_data.empty:\n",
    "        filtered_tfidf_matrix = tfidf_matrix[filtered_movies_data.index]\n",
    "        cosine_sim = cosine_similarity(input_vec, filtered_tfidf_matrix)\n",
    "        best_match_idx = cosine_sim.argmax()\n",
    "        recommended_movie_title = filtered_movies_data.iloc[best_match_idx]['Title']\n",
    "        return recommended_movie_title\n",
    "    else:\n",
    "        return \"No movies found in the preferred genre.\"\n",
    "input_plot = \"A young woman's journey through love and heartbreak.\"\n",
    "preferred_genre = \"Romance\"\n",
    "recommended_movie = recommend_movie(input_plot, preferred_genre)\n",
    "print(f\"Recommended Movie: {recommended_movie}\")\n",
    "\n"
   ]
  },
  {
   "cell_type": "code",
   "execution_count": null,
   "id": "c6905547",
   "metadata": {},
   "outputs": [],
   "source": [
    "def recommend_movie(tfidf_vectorizer=tfidf_vectorizer, tfidf_matrix=tfidf_matrix_summaries, movies_data=movies_data_cleaned):\n",
    "    input_plot = input(\"Enter a plot summary: \")\n",
    "    input_vec = tfidf_vectorizer.transform([input_plot])\n",
    "    preferred_genre = input(\"Enter your preferred genre: \")\n",
    "    genre_columns = ['genre_1', 'genre_2', 'genre_3', 'genre_4', 'genre_5', 'genre_6', 'genre_7']\n",
    "    filtered_movies = movies_data[genre_columns].apply(lambda x: x.str.contains(preferred_genre, case=False, na=False)).any(axis=1)\n",
    "    filtered_movies_data = movies_data[filtered_movies]\n",
    "    if not filtered_movies_data.empty:\n",
    "        filtered_tfidf_matrix = tfidf_matrix[filtered_movies_data.index]\n",
    "        cosine_sim = cosine_similarity(input_vec, filtered_tfidf_matrix)\n",
    "        best_match_idx = cosine_sim.argmax()\n",
    "        recommended_movie_title = filtered_movies_data.iloc[best_match_idx]['Title']\n",
    "        return recommended_movie_title\n",
    "    else:\n",
    "        return \"No movies found in the preferred genre.\"\n",
    "\n",
    "# Run the recommendation function and print the recommended movie\n",
    "recommended_movie = recommend_movie()\n",
    "print(f\"Recommended Movie: {recommended_movie}\")\n",
    "\n"
   ]
  },
  {
   "cell_type": "code",
   "execution_count": null,
   "id": "9b2f1b26",
   "metadata": {},
   "outputs": [],
   "source": [
    "def recommend_movie(tfidf_vectorizer=tfidf_vectorizer, tfidf_matrix=tfidf_matrix_summaries, movies_data=movies_data_cleaned):\n",
    "    input_plot = input(\"Enter a plot summary: \")\n",
    "    input_vec = tfidf_vectorizer.transform([input_plot])\n",
    "    \n",
    "    preferred_genre = input(\"Enter your preferred genre: \")\n",
    "    genre_columns = ['genre_1', 'genre_2', 'genre_3', 'genre_4', 'genre_5', 'genre_6', 'genre_7']\n",
    "    filtered_by_genre = movies_data[genre_columns].apply(lambda x: x.str.contains(preferred_genre, case=False, na=False)).any(axis=1)\n",
    "    \n",
    "    services = ['Netflix', 'Hulu', 'Amazon Prime', 'HBO Max', 'Paramount', 'Disney Plus']\n",
    "    input_services = input(f\"Enter your streaming service(s) from the following options ({', '.join(services)}), separated by commas if multiple: \")\n",
    "    selected_services = [service.strip() for service in input_services.split(',') if service.strip() in services]\n",
    "    \n",
    "    filtered_movies = movies_data[filtered_by_genre & movies_data['service'].isin(selected_services)]\n",
    "    \n",
    "    if not filtered_movies.empty:\n",
    "        filtered_tfidf_matrix = tfidf_matrix[filtered_movies.index]\n",
    "        cosine_sim = cosine_similarity(input_vec, filtered_tfidf_matrix)\n",
    "        best_match_idx = cosine_sim.argmax()\n",
    "        recommended_movie_title = filtered_movies.iloc[best_match_idx]['Title']\n",
    "        return recommended_movie_title\n",
    "    else:\n",
    "        return \"No movies found matching the criteria.\"\n",
    "recommended_movie = recommend_movie()\n",
    "print(f\"Recommended Movie: {recommended_movie}\")\n",
    "\n"
   ]
  }
 ],
 "metadata": {
  "kernelspec": {
   "display_name": "Python 3 (ipykernel)",
   "language": "python",
   "name": "python3"
  },
  "language_info": {
   "codemirror_mode": {
    "name": "ipython",
    "version": 3
   },
   "file_extension": ".py",
   "mimetype": "text/x-python",
   "name": "python",
   "nbconvert_exporter": "python",
   "pygments_lexer": "ipython3",
   "version": "3.9.4"
  }
 },
 "nbformat": 4,
 "nbformat_minor": 5
}
